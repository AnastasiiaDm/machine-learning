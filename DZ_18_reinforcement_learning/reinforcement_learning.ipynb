{
  "cells": [
    {
      "cell_type": "markdown",
      "metadata": {
        "id": "view-in-github",
        "colab_type": "text"
      },
      "source": [
        "<a href=\"https://colab.research.google.com/github/AnastasiiaDm/machine-learning/blob/main/DZ_18_reinforcement_learning/reinforcement_learning.ipynb\" target=\"_parent\"><img src=\"https://colab.research.google.com/assets/colab-badge.svg\" alt=\"Open In Colab\"/></a>"
      ]
    },
    {
      "cell_type": "code",
      "execution_count": null,
      "metadata": {
        "id": "MC1blGien7M0"
      },
      "outputs": [],
      "source": [
        "import gym\n",
        "from stable_baselines3 import PPO"
      ]
    },
    {
      "cell_type": "code",
      "execution_count": null,
      "metadata": {
        "id": "KVyrCF_xn7M1",
        "outputId": "24f4b56f-7e69-4aab-f484-ae73f344f620"
      },
      "outputs": [
        {
          "name": "stdout",
          "output_type": "stream",
          "text": [
            "Using cpu device\n",
            "Wrapping the env with a `Monitor` wrapper\n",
            "Wrapping the env in a DummyVecEnv.\n",
            "---------------------------------\n",
            "| rollout/           |          |\n",
            "|    ep_len_mean     | 23.5     |\n",
            "|    ep_rew_mean     | 23.5     |\n",
            "| time/              |          |\n",
            "|    fps             | 7018     |\n",
            "|    iterations      | 1        |\n",
            "|    time_elapsed    | 0        |\n",
            "|    total_timesteps | 2048     |\n",
            "---------------------------------\n",
            "-----------------------------------------\n",
            "| rollout/                |             |\n",
            "|    ep_len_mean          | 28.9        |\n",
            "|    ep_rew_mean          | 28.9        |\n",
            "| time/                   |             |\n",
            "|    fps                  | 5156        |\n",
            "|    iterations           | 2           |\n",
            "|    time_elapsed         | 0           |\n",
            "|    total_timesteps      | 4096        |\n",
            "| train/                  |             |\n",
            "|    approx_kl            | 0.008394387 |\n",
            "|    clip_fraction        | 0.0998      |\n",
            "|    clip_range           | 0.2         |\n",
            "|    entropy_loss         | -0.686      |\n",
            "|    explained_variance   | -0.00322    |\n",
            "|    learning_rate        | 0.0003      |\n",
            "|    loss                 | 6.88        |\n",
            "|    n_updates            | 10          |\n",
            "|    policy_gradient_loss | -0.0153     |\n",
            "|    value_loss           | 56.8        |\n",
            "-----------------------------------------\n",
            "-----------------------------------------\n",
            "| rollout/                |             |\n",
            "|    ep_len_mean          | 36.3        |\n",
            "|    ep_rew_mean          | 36.3        |\n",
            "| time/                   |             |\n",
            "|    fps                  | 4762        |\n",
            "|    iterations           | 3           |\n",
            "|    time_elapsed         | 1           |\n",
            "|    total_timesteps      | 6144        |\n",
            "| train/                  |             |\n",
            "|    approx_kl            | 0.010475364 |\n",
            "|    clip_fraction        | 0.0667      |\n",
            "|    clip_range           | 0.2         |\n",
            "|    entropy_loss         | -0.67       |\n",
            "|    explained_variance   | 0.0826      |\n",
            "|    learning_rate        | 0.0003      |\n",
            "|    loss                 | 14.4        |\n",
            "|    n_updates            | 20          |\n",
            "|    policy_gradient_loss | -0.0184     |\n",
            "|    value_loss           | 42.3        |\n",
            "-----------------------------------------\n",
            "-----------------------------------------\n",
            "| rollout/                |             |\n",
            "|    ep_len_mean          | 47.2        |\n",
            "|    ep_rew_mean          | 47.2        |\n",
            "| time/                   |             |\n",
            "|    fps                  | 4584        |\n",
            "|    iterations           | 4           |\n",
            "|    time_elapsed         | 1           |\n",
            "|    total_timesteps      | 8192        |\n",
            "| train/                  |             |\n",
            "|    approx_kl            | 0.008352159 |\n",
            "|    clip_fraction        | 0.103       |\n",
            "|    clip_range           | 0.2         |\n",
            "|    entropy_loss         | -0.632      |\n",
            "|    explained_variance   | 0.235       |\n",
            "|    learning_rate        | 0.0003      |\n",
            "|    loss                 | 25.6        |\n",
            "|    n_updates            | 30          |\n",
            "|    policy_gradient_loss | -0.019      |\n",
            "|    value_loss           | 53.9        |\n",
            "-----------------------------------------\n",
            "-----------------------------------------\n",
            "| rollout/                |             |\n",
            "|    ep_len_mean          | 61.8        |\n",
            "|    ep_rew_mean          | 61.8        |\n",
            "| time/                   |             |\n",
            "|    fps                  | 4492        |\n",
            "|    iterations           | 5           |\n",
            "|    time_elapsed         | 2           |\n",
            "|    total_timesteps      | 10240       |\n",
            "| train/                  |             |\n",
            "|    approx_kl            | 0.007303317 |\n",
            "|    clip_fraction        | 0.0588      |\n",
            "|    clip_range           | 0.2         |\n",
            "|    entropy_loss         | -0.609      |\n",
            "|    explained_variance   | 0.22        |\n",
            "|    learning_rate        | 0.0003      |\n",
            "|    loss                 | 21.8        |\n",
            "|    n_updates            | 40          |\n",
            "|    policy_gradient_loss | -0.0159     |\n",
            "|    value_loss           | 64.5        |\n",
            "-----------------------------------------\n"
          ]
        }
      ],
      "source": [
        "# Create the environment\n",
        "env = gym.make(\"CartPole-v1\")\n",
        "\n",
        "# Instantiate the PPO model\n",
        "model = PPO(\"MlpPolicy\", env, verbose=1)\n",
        "\n",
        "# Train the model\n",
        "model.learn(total_timesteps=10000)\n",
        "\n",
        "env.close()"
      ]
    },
    {
      "cell_type": "markdown",
      "source": [
        "The agent is improving in terms of performance, with steady increases in reward and episode length. Training is stable, but value function optimization could be improved. Further tuning or additional training may help reduce value loss and enhance the agent's performance."
      ],
      "metadata": {
        "id": "Xco89MgKn_TX"
      }
    }
  ],
  "metadata": {
    "colab": {
      "provenance": [],
      "include_colab_link": true
    },
    "kernelspec": {
      "display_name": "Python 3 (ipykernel)",
      "language": "python",
      "name": "python3"
    },
    "language_info": {
      "codemirror_mode": {
        "name": "ipython",
        "version": 3
      },
      "file_extension": ".py",
      "mimetype": "text/x-python",
      "name": "python",
      "nbconvert_exporter": "python",
      "pygments_lexer": "ipython3",
      "version": "3.11.1"
    }
  },
  "nbformat": 4,
  "nbformat_minor": 0
}