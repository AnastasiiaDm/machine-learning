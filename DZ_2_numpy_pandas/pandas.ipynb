{
  "cells": [
    {
      "cell_type": "markdown",
      "id": "903e65c2-9eb7-4b52-9ba4-b339401a29e6",
      "metadata": {
        "id": "903e65c2-9eb7-4b52-9ba4-b339401a29e6"
      },
      "source": [
        "[Pandas docs](https://pandas.pydata.org)"
      ]
    },
    {
      "cell_type": "code",
      "execution_count": 2,
      "id": "4e60b12f-3c56-49b2-8abc-3d32fe60139c",
      "metadata": {
        "id": "4e60b12f-3c56-49b2-8abc-3d32fe60139c"
      },
      "outputs": [],
      "source": [
        "import pandas as pd"
      ]
    },
    {
      "cell_type": "code",
      "execution_count": 3,
      "id": "50b841e3-c152-4014-8516-10ddcc7c7fb0",
      "metadata": {
        "id": "50b841e3-c152-4014-8516-10ddcc7c7fb0",
        "colab": {
          "base_uri": "https://localhost:8080/"
        },
        "outputId": "054351f0-a5e9-4f03-9252-83ab3eceb9b3"
      },
      "outputs": [
        {
          "output_type": "stream",
          "name": "stdout",
          "text": [
            "0    10\n",
            "1    20\n",
            "2    30\n",
            "3    40\n",
            "4    50\n",
            "dtype: int64\n"
          ]
        }
      ],
      "source": [
        "# Завдання 1: Створити серію зі списку чисел [10, 20, 30, 40, 50]\n",
        "ser1 = pd.Series([10, 20, 30, 40, 50])\n",
        "print(ser1)"
      ]
    },
    {
      "cell_type": "code",
      "execution_count": 43,
      "id": "2c5c1962-b5af-4c13-9402-0309e7c3352e",
      "metadata": {
        "id": "2c5c1962-b5af-4c13-9402-0309e7c3352e",
        "colab": {
          "base_uri": "https://localhost:8080/"
        },
        "outputId": "02ef432b-6e1d-40ca-f3ac-a342f4235497"
      },
      "outputs": [
        {
          "output_type": "stream",
          "name": "stdout",
          "text": [
            "   0  1  2\n",
            "0  1  2  3\n",
            "1  4  5  6\n",
            "2  7  8  9\n"
          ]
        }
      ],
      "source": [
        "# Завдання 2: Створити DataFrame зі списку списків [[1, 2, 3], [4, 5, 6], [7, 8, 9]]\n",
        "df2 = pd.DataFrame([[1, 2, 3], [4, 5, 6], [7, 8, 9]])\n",
        "print(df2)"
      ]
    },
    {
      "cell_type": "code",
      "execution_count": 6,
      "id": "68a99747-e784-40e8-8a3b-6d2719304862",
      "metadata": {
        "id": "68a99747-e784-40e8-8a3b-6d2719304862",
        "colab": {
          "base_uri": "https://localhost:8080/"
        },
        "outputId": "c36553e5-cf4e-45dd-930e-a7ae1e38f26c"
      },
      "outputs": [
        {
          "output_type": "stream",
          "name": "stdout",
          "text": [
            "a    10\n",
            "b    20\n",
            "c    30\n",
            "d    40\n",
            "e    50\n",
            "dtype: int64\n"
          ]
        }
      ],
      "source": [
        "# Завдання 3: Задати індекси для серії з завдання 1 рядками \"a\", \"b\", \"c\", \"d\", \"e\"\n",
        "# Hints: series.index\n",
        "ser1.index = [\"a\", \"b\", \"c\", \"d\", \"e\"]\n",
        "print(ser1)"
      ]
    },
    {
      "cell_type": "code",
      "execution_count": 44,
      "id": "91ba0594-1337-4c8e-a41f-b0bce46f87c4",
      "metadata": {
        "id": "91ba0594-1337-4c8e-a41f-b0bce46f87c4",
        "colab": {
          "base_uri": "https://localhost:8080/"
        },
        "outputId": "6719d806-5760-4de0-9907-84a5f45bab8d"
      },
      "outputs": [
        {
          "output_type": "stream",
          "name": "stdout",
          "text": [
            "   A  B  C\n",
            "0  1  2  3\n",
            "1  4  5  6\n",
            "2  7  8  9\n"
          ]
        }
      ],
      "source": [
        "# Завдання 4: Перейменувати стовпці DataFrame з завдання 2 на \"A\", \"B\", \"C\"\n",
        "# Hints: df.columns\n",
        "df2.columns = [\"A\", \"B\", \"C\"]\n",
        "print(df2)"
      ]
    },
    {
      "cell_type": "code",
      "execution_count": 10,
      "id": "c27ab251-b22e-4f48-99fc-a865a21d0911",
      "metadata": {
        "id": "c27ab251-b22e-4f48-99fc-a865a21d0911",
        "colab": {
          "base_uri": "https://localhost:8080/"
        },
        "outputId": "894defb2-7a5d-4b21-8c1a-5c6d55c4f812"
      },
      "outputs": [
        {
          "output_type": "stream",
          "name": "stdout",
          "text": [
            "50\n"
          ]
        }
      ],
      "source": [
        "# Завдання 5: Знайти максимальний елемент в серії з завдання 1\n",
        "ser1_max = ser1.max()\n",
        "print(ser1_max)"
      ]
    },
    {
      "cell_type": "code",
      "execution_count": 34,
      "id": "0f9a5ab4-a498-45a4-9cd3-4b6f1932d557",
      "metadata": {
        "id": "0f9a5ab4-a498-45a4-9cd3-4b6f1932d557",
        "colab": {
          "base_uri": "https://localhost:8080/"
        },
        "outputId": "9af25884-b6c3-46e9-ca57-3d58a250b9ce"
      },
      "outputs": [
        {
          "output_type": "stream",
          "name": "stdout",
          "text": [
            "A    4.0\n",
            "B    5.0\n",
            "C    6.0\n",
            "dtype: float64\n"
          ]
        }
      ],
      "source": [
        "# Завдання 6: Знайти середнє значення для кожного стовпця DataFrame з завдання 2\n",
        "df2_mean = df2.mean(axis=0)\n",
        "print(df2_mean)"
      ]
    },
    {
      "cell_type": "code",
      "execution_count": 17,
      "id": "f6e78f6e-9abd-4dc5-82a4-c85427fd9aa6",
      "metadata": {
        "id": "f6e78f6e-9abd-4dc5-82a4-c85427fd9aa6",
        "colab": {
          "base_uri": "https://localhost:8080/"
        },
        "outputId": "d87cdf06-ced0-459f-e4c3-9e98ac51edf4"
      },
      "outputs": [
        {
          "output_type": "stream",
          "name": "stdout",
          "text": [
            "150\n"
          ]
        }
      ],
      "source": [
        "# Завдання 7: Знайти суму елементів в серії з завдання 1\n",
        "ser1_sum = ser1.sum()\n",
        "print(ser1_sum)"
      ]
    },
    {
      "cell_type": "code",
      "execution_count": 18,
      "id": "46176e68-705b-4c4b-b2ea-e314b51e888e",
      "metadata": {
        "id": "46176e68-705b-4c4b-b2ea-e314b51e888e",
        "colab": {
          "base_uri": "https://localhost:8080/"
        },
        "outputId": "cebb9bec-fe93-4067-b2b2-0f30805e07b5"
      },
      "outputs": [
        {
          "output_type": "stream",
          "name": "stdout",
          "text": [
            "   A  B  C\n",
            "0  1  2  3\n",
            "1  4  5  6\n"
          ]
        }
      ],
      "source": [
        "# Завдання 8: Вибрати всі рядки DataFrame з завдання 2, де значення стовпця \"A\" менше 5\n",
        "df2_filtered = df2[df2['A'] < 5]\n",
        "print(df2_filtered)"
      ]
    },
    {
      "cell_type": "code",
      "execution_count": 45,
      "id": "c2920dd6-93f2-4a17-9474-2489ac185c9b",
      "metadata": {
        "id": "c2920dd6-93f2-4a17-9474-2489ac185c9b",
        "colab": {
          "base_uri": "https://localhost:8080/"
        },
        "outputId": "a8447782-7463-4bc5-a3a0-8f4ca6d94a18"
      },
      "outputs": [
        {
          "output_type": "stream",
          "name": "stdout",
          "text": [
            "   A  B  C   D\n",
            "0  1  2  3  10\n",
            "1  4  5  6  20\n",
            "2  7  8  9  30\n"
          ]
        }
      ],
      "source": [
        "# Завдання 9: Додати новий стовпець \"D\" до DataFrame з завдання 2 зі значеннями [10, 20, 30]\n",
        "df2['D'] = [10, 20, 30]\n",
        "print(df2)"
      ]
    },
    {
      "cell_type": "code",
      "execution_count": 46,
      "id": "60955c9e-636d-4aa6-87d2-7ca94da50f59",
      "metadata": {
        "id": "60955c9e-636d-4aa6-87d2-7ca94da50f59",
        "colab": {
          "base_uri": "https://localhost:8080/"
        },
        "outputId": "3567aee6-4e3a-43dc-a430-483ff630ed33"
      },
      "outputs": [
        {
          "output_type": "stream",
          "name": "stdout",
          "text": [
            "   A  C   D\n",
            "0  1  3  10\n",
            "1  4  6  20\n",
            "2  7  9  30\n"
          ]
        }
      ],
      "source": [
        "# Завдання 10: Видалити стовпець \"B\" з DataFrame з завдання 2\n",
        "df2.drop(columns='B', inplace=True)\n",
        "# df2.drop('B', axis=1, inplace=True)\n",
        "print(df2)"
      ]
    },
    {
      "cell_type": "code",
      "execution_count": 46,
      "id": "a60a3c29-f879-4296-82af-fa3b20924447",
      "metadata": {
        "id": "a60a3c29-f879-4296-82af-fa3b20924447"
      },
      "outputs": [],
      "source": []
    }
  ],
  "metadata": {
    "kernelspec": {
      "display_name": "Python 3 (ipykernel)",
      "language": "python",
      "name": "python3"
    },
    "language_info": {
      "codemirror_mode": {
        "name": "ipython",
        "version": 3
      },
      "file_extension": ".py",
      "mimetype": "text/x-python",
      "name": "python",
      "nbconvert_exporter": "python",
      "pygments_lexer": "ipython3",
      "version": "3.8.10"
    },
    "colab": {
      "provenance": []
    }
  },
  "nbformat": 4,
  "nbformat_minor": 5
}