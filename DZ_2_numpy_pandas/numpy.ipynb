{
  "cells": [
    {
      "cell_type": "markdown",
      "id": "4994016c-d318-4577-b968-281d793fb989",
      "metadata": {
        "id": "4994016c-d318-4577-b968-281d793fb989"
      },
      "source": [
        "Для успішного виконання домашки використовуйте документацію [NumPy](https://numpy.org/doc/stable/).\n",
        "\n",
        "Зверніть увагу на такі методи `numpy`:\n",
        "* *arange*\n",
        "* *zeros*\n",
        "* *ones*\n",
        "* *full*\n",
        "* *nonzero*\n",
        "* *eye*\n",
        "* *random*\n",
        "* *sort*\n",
        "* *sum*\n",
        "* *min*\n",
        "* *mean*"
      ]
    },
    {
      "cell_type": "code",
      "execution_count": 2,
      "id": "46a34168-40d8-472c-af42-1c9e74f27782",
      "metadata": {
        "id": "46a34168-40d8-472c-af42-1c9e74f27782"
      },
      "outputs": [],
      "source": [
        "import numpy as np"
      ]
    },
    {
      "cell_type": "code",
      "execution_count": 5,
      "id": "9eae0577-c5b9-4b45-a841-fb7e0cd46ae2",
      "metadata": {
        "colab": {
          "base_uri": "https://localhost:8080/"
        },
        "id": "9eae0577-c5b9-4b45-a841-fb7e0cd46ae2",
        "outputId": "456d260b-9c0e-4d04-8db9-9f7249cdcd3f"
      },
      "outputs": [
        {
          "output_type": "stream",
          "name": "stdout",
          "text": [
            "[[0 1 2]\n",
            " [3 4 5]\n",
            " [6 7 8]]\n"
          ]
        }
      ],
      "source": [
        "# Завдання 1: Створити масив розміром 3x3 зі значеннями від 0 до 8\n",
        "# Hints: np.arange\n",
        "arr1 = np.arange(9).reshape(3, 3)\n",
        "print(arr1)"
      ]
    },
    {
      "cell_type": "code",
      "execution_count": 6,
      "id": "c4442a60-f6f3-48e4-8a9e-0aa2a4c08acb",
      "metadata": {
        "colab": {
          "base_uri": "https://localhost:8080/"
        },
        "id": "c4442a60-f6f3-48e4-8a9e-0aa2a4c08acb",
        "outputId": "1dd7f55a-1ee1-4bb4-8add-27640f98e567"
      },
      "outputs": [
        {
          "output_type": "stream",
          "name": "stdout",
          "text": [
            "[0. 0. 0. 0. 0. 0. 0. 0. 0. 0.]\n"
          ]
        }
      ],
      "source": [
        "# Завдання 2: Створити вектор розміром 10, заповнений нулями\n",
        "arr2 = np.zeros(10)\n",
        "print(arr2)"
      ]
    },
    {
      "cell_type": "code",
      "execution_count": 7,
      "id": "35b875ff-292f-4f80-ab04-9a2d8307d33a",
      "metadata": {
        "colab": {
          "base_uri": "https://localhost:8080/"
        },
        "id": "35b875ff-292f-4f80-ab04-9a2d8307d33a",
        "outputId": "efb5b3ed-8a96-4e15-f7e8-7ebe62be1999"
      },
      "outputs": [
        {
          "output_type": "stream",
          "name": "stdout",
          "text": [
            "[1. 1. 1. 1. 1. 1. 1. 1. 1. 1.]\n"
          ]
        }
      ],
      "source": [
        "# Завдання 3: Створити вектор розміром 10, заповнений одиницями\n",
        "arr3 = np.ones(10)\n",
        "print(arr3)"
      ]
    },
    {
      "cell_type": "code",
      "execution_count": 10,
      "id": "1b6bffbb-5dea-4885-8ceb-5164811db29c",
      "metadata": {
        "colab": {
          "base_uri": "https://localhost:8080/"
        },
        "id": "1b6bffbb-5dea-4885-8ceb-5164811db29c",
        "outputId": "9ddd4a47-18fa-4db1-9bd3-65d679bdb531"
      },
      "outputs": [
        {
          "output_type": "stream",
          "name": "stdout",
          "text": [
            "[5 5 5 5 5 5 5 5 5 5]\n"
          ]
        }
      ],
      "source": [
        "# Завдання 4: Створити вектор розміром 10, заповнений значеннями 5\n",
        "# Hints: np.full\n",
        "arr4 = np.full(10, 5)\n",
        "print(arr4)"
      ]
    },
    {
      "cell_type": "code",
      "execution_count": 12,
      "id": "1f62466c-2660-4f70-8399-27fab4d197b1",
      "metadata": {
        "colab": {
          "base_uri": "https://localhost:8080/"
        },
        "id": "1f62466c-2660-4f70-8399-27fab4d197b1",
        "outputId": "b00eef8a-0b7b-42ec-b6d6-f07d2c192b78"
      },
      "outputs": [
        {
          "output_type": "stream",
          "name": "stdout",
          "text": [
            "[10 11 12 13 14 15 16 17 18 19 20 21 22 23 24 25 26 27 28 29 30 31 32 33\n",
            " 34 35 36 37 38 39 40 41 42 43 44 45 46 47 48 49]\n"
          ]
        }
      ],
      "source": [
        "# Завдання 5: Створити вектор з числами від 10 до 49\n",
        "arr5 = np.arange(10, 50)\n",
        "print(arr5)"
      ]
    },
    {
      "cell_type": "code",
      "execution_count": 14,
      "id": "e673b144-0eae-4e48-9e80-358da5b39783",
      "metadata": {
        "colab": {
          "base_uri": "https://localhost:8080/"
        },
        "id": "e673b144-0eae-4e48-9e80-358da5b39783",
        "outputId": "d635d1a7-8dd3-447e-de19-eece9b664e6b"
      },
      "outputs": [
        {
          "output_type": "stream",
          "name": "stdout",
          "text": [
            "[49 48 47 46 45 44 43 42 41 40 39 38 37 36 35 34 33 32 31 30 29 28 27 26\n",
            " 25 24 23 22 21 20 19 18 17 16 15 14 13 12 11 10]\n",
            "[49 48 47 46 45 44 43 42 41 40 39 38 37 36 35 34 33 32 31 30 29 28 27 26\n",
            " 25 24 23 22 21 20 19 18 17 16 15 14 13 12 11 10]\n"
          ]
        }
      ],
      "source": [
        "# Завдання 6: Реверсувати порядок елементів вектора з завдання 5\n",
        "arr6 = np.flip(arr5)\n",
        "print(arr6)\n",
        "arr6 = arr5[::-1]\n",
        "print(arr6)"
      ]
    },
    {
      "cell_type": "code",
      "execution_count": 17,
      "id": "f5fdce9b-3003-4560-b488-1bb8af2c0551",
      "metadata": {
        "colab": {
          "base_uri": "https://localhost:8080/"
        },
        "id": "f5fdce9b-3003-4560-b488-1bb8af2c0551",
        "outputId": "60d8c610-65f5-4806-b1d9-48b36975e877"
      },
      "outputs": [
        {
          "output_type": "stream",
          "name": "stdout",
          "text": [
            "[[ 0  1  2  3  4  5  6  7  8]\n",
            " [ 9 10 11 12 13 14 15 16 17]\n",
            " [18 19 20 21 22 23 24 25 26]\n",
            " [27 28 29 30 31 32 33 34 35]\n",
            " [36 37 38 39 40 41 42 43 44]\n",
            " [45 46 47 48 49 50 51 52 53]\n",
            " [54 55 56 57 58 59 60 61 62]\n",
            " [63 64 65 66 67 68 69 70 71]\n",
            " [72 73 74 75 76 77 78 79 80]]\n"
          ]
        }
      ],
      "source": [
        "# Завдання 7: Створити 9x9 матрицю зі значеннями від 0 до 80\n",
        "# Hints: np.arange\n",
        "arr7 = np.arange(81).reshape(9, 9)\n",
        "print(arr7)"
      ]
    },
    {
      "cell_type": "code",
      "execution_count": 31,
      "id": "c5aa5564-5ea6-414d-bf70-92d1b2dbe3da",
      "metadata": {
        "colab": {
          "base_uri": "https://localhost:8080/"
        },
        "id": "c5aa5564-5ea6-414d-bf70-92d1b2dbe3da",
        "outputId": "ff7e0ad7-d09a-431e-f388-577d17c4a505"
      },
      "outputs": [
        {
          "output_type": "stream",
          "name": "stdout",
          "text": [
            "(array([0, 1, 4]),)\n"
          ]
        }
      ],
      "source": [
        "# Завдання 8: Знайти індекси ненульових елементів вектора [1,2,0,0,4,0]\n",
        "# Hints: np.nonzero\n",
        "a = np.array([1,2,0,0,4,0])\n",
        "arr8 = np.nonzero(a)\n",
        "\n",
        "print(arr8)"
      ]
    },
    {
      "cell_type": "code",
      "execution_count": 36,
      "id": "d4b551a0-8ac8-4d4f-ae9a-f8c89388edc2",
      "metadata": {
        "colab": {
          "base_uri": "https://localhost:8080/"
        },
        "id": "d4b551a0-8ac8-4d4f-ae9a-f8c89388edc2",
        "outputId": "f0f83507-4782-4d5f-9b5e-ebf5955f6943"
      },
      "outputs": [
        {
          "output_type": "stream",
          "name": "stdout",
          "text": [
            "[[1. 0. 0.]\n",
            " [0. 1. 0.]\n",
            " [0. 0. 1.]]\n"
          ]
        }
      ],
      "source": [
        "# Завдання 9: Створити одиничну матрицю розміром 3x3\n",
        "# Hints: np.eye\n",
        "arr9 = np.eye(3)\n",
        "print(arr9)"
      ]
    },
    {
      "cell_type": "code",
      "execution_count": 43,
      "id": "5b65802f-0a76-4b21-8984-d15847ab8929",
      "metadata": {
        "colab": {
          "base_uri": "https://localhost:8080/"
        },
        "id": "5b65802f-0a76-4b21-8984-d15847ab8929",
        "outputId": "b783a312-fb9a-4172-80d7-56464cfef1a3"
      },
      "outputs": [
        {
          "output_type": "stream",
          "name": "stdout",
          "text": [
            "[0.60140462 0.43177449 0.60933859 0.90298657 0.98906345 0.48754354\n",
            " 0.72059605 0.28850815 0.13555167 0.11736032]\n",
            "[0.11736032 0.13555167 0.28850815 0.43177449 0.48754354 0.60140462\n",
            " 0.60933859 0.72059605 0.90298657 0.98906345]\n"
          ]
        }
      ],
      "source": [
        "# Завдання 10: Створити випадковий вектор розміром 10 та відсортувати його\n",
        "arr10 = np.random.rand(10)\n",
        "arr10_sorted = np.sort(arr10)\n",
        "print(arr10)\n",
        "print(arr10_sorted)"
      ]
    },
    {
      "cell_type": "code",
      "execution_count": 55,
      "id": "522934ef-c4f2-4960-b174-34f60b5b570c",
      "metadata": {
        "colab": {
          "base_uri": "https://localhost:8080/"
        },
        "id": "522934ef-c4f2-4960-b174-34f60b5b570c",
        "outputId": "635f2ef1-a0e8-4840-bddd-d4753c95e667"
      },
      "outputs": [
        {
          "output_type": "stream",
          "name": "stdout",
          "text": [
            "[[ 6 10 10  9  4]\n",
            " [ 3  2  5  5  5]\n",
            " [ 0  7  9  4 10]\n",
            " [ 1 10  3  4  7]\n",
            " [ 0 10  7  0  6]]\n"
          ]
        }
      ],
      "source": [
        "# Завдання 11: Створити матрицю 5x5 з випадковими цілими числами в діапазоні від 0 до 10\n",
        "arr11 = np.random.randint(0, 11, size=(5, 5))\n",
        "print(arr11)"
      ]
    },
    {
      "cell_type": "code",
      "execution_count": 56,
      "id": "5e199784-9d2e-4b5c-a588-a83badcc1367",
      "metadata": {
        "colab": {
          "base_uri": "https://localhost:8080/"
        },
        "id": "5e199784-9d2e-4b5c-a588-a83badcc1367",
        "outputId": "39a5e299-1ae9-48b7-f158-1455a14758b4"
      },
      "outputs": [
        {
          "output_type": "stream",
          "name": "stdout",
          "text": [
            "137\n"
          ]
        }
      ],
      "source": [
        "# Завдання 12: Обчислити суму всіх елементів матриці з завдання 11\n",
        "arr11_sum = np.sum(arr11)\n",
        "print(arr11_sum)"
      ]
    },
    {
      "cell_type": "code",
      "execution_count": 57,
      "id": "9ef6bc2e-fb32-4e3c-84bd-e3898bfe9cd7",
      "metadata": {
        "colab": {
          "base_uri": "https://localhost:8080/"
        },
        "id": "9ef6bc2e-fb32-4e3c-84bd-e3898bfe9cd7",
        "outputId": "648c1769-c891-44e0-f507-5fa0a9dd1017"
      },
      "outputs": [
        {
          "output_type": "stream",
          "name": "stdout",
          "text": [
            "0\n"
          ]
        }
      ],
      "source": [
        "# Завдання 13: Знайти найменше значення в кожному рядку матриці з завдання 11\n",
        "arr11_min_row = np.min(arr11)\n",
        "print(arr11_min_row)"
      ]
    },
    {
      "cell_type": "code",
      "execution_count": 59,
      "id": "8236b838-8cb3-4adc-82d1-121b29701bee",
      "metadata": {
        "colab": {
          "base_uri": "https://localhost:8080/"
        },
        "id": "8236b838-8cb3-4adc-82d1-121b29701bee",
        "outputId": "9caa5363-c49a-42c8-ace3-d8440da1e227"
      },
      "outputs": [
        {
          "output_type": "stream",
          "name": "stdout",
          "text": [
            "[2.  7.8 6.8 4.4 6.4]\n"
          ]
        }
      ],
      "source": [
        "# Завдання 14: Обчислити середнє значення кожного стовпця матриці з завдання 11\n",
        "arr11_mean_col = np.mean(arr11, axis=0)\n",
        "print(arr11_mean_col)"
      ]
    },
    {
      "cell_type": "code",
      "execution_count": 71,
      "id": "6c1c6b63-42fa-435f-910b-b82cb6427c0d",
      "metadata": {
        "colab": {
          "base_uri": "https://localhost:8080/"
        },
        "id": "6c1c6b63-42fa-435f-910b-b82cb6427c0d",
        "outputId": "d71f0adc-293c-4db2-c9cf-8e417adfb39a"
      },
      "outputs": [
        {
          "output_type": "stream",
          "name": "stdout",
          "text": [
            "[8 1 9 4 8 4 9 4 9 5 9 0 0 0 5]\n",
            "[ 8  1 -1  4  8  4  9  4  9  5  9  0  0  0  5]\n"
          ]
        }
      ],
      "source": [
        "# Завдання 15: Створити випадковий вектор розміром 15 та замінити максимальне значення на -1\n",
        "# Hints: np.argmax\n",
        "arr15 = np.random.randint(10, size=15)\n",
        "print(arr15)\n",
        "arr15[np.argmax(arr15)] = -1\n",
        "print(arr15)"
      ]
    },
    {
      "cell_type": "code",
      "execution_count": 73,
      "id": "915a52ab-a49e-4485-958c-98fa607c1294",
      "metadata": {
        "colab": {
          "base_uri": "https://localhost:8080/"
        },
        "id": "915a52ab-a49e-4485-958c-98fa607c1294",
        "outputId": "e8814734-2915-4a76-b5c4-1f10df406660"
      },
      "outputs": [
        {
          "output_type": "stream",
          "name": "stdout",
          "text": [
            "[[8 7 9 6 1]\n",
            " [3 4 4 1 0]]\n"
          ]
        }
      ],
      "source": [
        "# Завдання 16: Перетворити випадковий вектор розміром 10 в матрицю розміром 2x5\n",
        "arr16 = np.random.randint(10, size=10).reshape(2, 5)\n",
        "print(arr16)"
      ]
    },
    {
      "cell_type": "code",
      "execution_count": 74,
      "id": "6df6bd93-d180-4d59-b2f7-52fbd823ac91",
      "metadata": {
        "colab": {
          "base_uri": "https://localhost:8080/"
        },
        "id": "6df6bd93-d180-4d59-b2f7-52fbd823ac91",
        "outputId": "5a3a873c-7f11-4308-9ca1-c30a4c5793a8"
      },
      "outputs": [
        {
          "output_type": "stream",
          "name": "stdout",
          "text": [
            "4.3\n"
          ]
        }
      ],
      "source": [
        "# Завдання 17: Знайти середнє значення елементів матриці з завдання 16\n",
        "arr16_mean = np.mean(arr16)\n",
        "print(arr16_mean)"
      ]
    }
  ],
  "metadata": {
    "kernelspec": {
      "display_name": "Python 3 (ipykernel)",
      "language": "python",
      "name": "python3"
    },
    "language_info": {
      "codemirror_mode": {
        "name": "ipython",
        "version": 3
      },
      "file_extension": ".py",
      "mimetype": "text/x-python",
      "name": "python",
      "nbconvert_exporter": "python",
      "pygments_lexer": "ipython3",
      "version": "3.8.10"
    },
    "colab": {
      "provenance": []
    }
  },
  "nbformat": 4,
  "nbformat_minor": 5
}